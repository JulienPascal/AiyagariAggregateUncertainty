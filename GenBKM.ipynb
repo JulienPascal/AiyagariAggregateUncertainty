{
 "cells": [
  {
   "cell_type": "markdown",
   "metadata": {},
   "source": [
    "# GenBKM"
   ]
  },
  {
   "cell_type": "markdown",
   "metadata": {},
   "source": [
    "This notebook contains a function that uses different impulse response functions to simulate an economy outside the non-stochastic steady-state using the GenBKM algorithm of Reiter (2018)."
   ]
  },
  {
   "cell_type": "code",
   "execution_count": null,
   "metadata": {},
   "outputs": [],
   "source": [
    "function GenBKM_path!(XT::Array{Float64,1}, max_iter::Int64, x_scaled::Array{Float64,2}, shocks::Array{Float64,1}, array_sigma::Array{Float64,1})\n",
    "    \"\"\"\n",
    "    Use different impulse response functions to simulate an economy outside the non-stochastic steady-state\n",
    "    using the GenBKM algorithm of Reiter (2018) \n",
    "    Input:\n",
    "    ------\n",
    "    * XT::Array{Float64,1}: an array to hold values\n",
    "    * max_iter::Int64: maximum number of periods in the simulation\n",
    "    * x_scaled::Array{Float64,2}: scaled impulse response functions for different values of aggregate shocks\n",
    "    * shocks::Array{Float64,1}: shocks to the economy outside the steady-state\n",
    "    * array_sigma::Array{Float64,1}: grid of shocks used when simulating x_scaled\n",
    "    Output:\n",
    "    -------\n",
    "    * none. shocks::Array{Float64,1}\n",
    "    \"\"\"\n",
    "    # get the length of x_scaled\n",
    "    len_x_scaled = size(x_scaled,1)\n",
    "\n",
    "    # We don't want x_scaled to contain any NaN value\n",
    "    if sum(isnan.( x_scaled) .== true) != 0\n",
    "        error(\"x_scaled contains at least one NaN value.\")\n",
    "    end\n",
    "\n",
    "    # We don't want shocks to contain any NaN value\n",
    "    if sum(isnan.(shocks) .== true) != 0\n",
    "        error(\"shocks contains at least one NaN value.\")\n",
    "    end\n",
    "\n",
    "    # Loop over time periods periods\n",
    "    for t=2:max_iter\n",
    "        # Superposition of MIT shocks:\n",
    "        for k=1:t\n",
    "            # After some time, we assume that the effect of past shocks vanishes:\n",
    "            if k<=len_x_scaled\n",
    "                # Find were the initial shock stood on the sigma grid:\n",
    "                index_sigma = searchsortednearest(array_sigma, shocks[t-k+1])\n",
    "                XT[t]+=x_scaled[k, index_sigma]*shocks[t-k+1]\n",
    "            end\n",
    "        end\n",
    "    end\n",
    "\n",
    "end"
   ]
  }
 ],
 "metadata": {
  "kernelspec": {
   "display_name": "Julia 1.3.0",
   "language": "julia",
   "name": "julia-1.3"
  },
  "language_info": {
   "file_extension": ".jl",
   "mimetype": "application/julia",
   "name": "julia",
   "version": "1.3.0"
  }
 },
 "nbformat": 4,
 "nbformat_minor": 2
}
