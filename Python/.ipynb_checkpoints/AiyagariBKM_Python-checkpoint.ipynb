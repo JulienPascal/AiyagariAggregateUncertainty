{
 "cells": [
  {
   "cell_type": "markdown",
   "metadata": {},
   "source": [
    "# Aiyagari Model with Aggregate Uncertainty\n",
    "\n",
    "**Python version**"
   ]
  },
  {
   "cell_type": "markdown",
   "metadata": {},
   "source": [
    "## Introduction\n",
    "\n",
    "The Bewley-Huggett-Aiyagari-Imohoroğlu economies are the workhorse of modern macroeconomics. In these economies, markets are \"incomplete\". Agents cannot fully insure against risk and decide to self-insure by holding a safe asset to smooth their consumption (see [Ljungqvist and Sargent (2018)](https://mitpress.mit.edu/books/recursive-macroeconomic-theory-fourth-edition) for a textbook treatment of this topic).\n",
    "\n",
    "In this post, I consider the model of [Aiyagari (1994)](https://www.jstor.org/stable/2118417?seq=1#metadata_info_tab_contents). While the original model abstracts from aggregate fluctuations, Economists have since developed several techniques to simulate out-of-steady-state dynamics for this class of models.\n",
    "\n",
    "Here, I use a methodology that is quite general. It is a **3-step procedure**, which proceeds as follows:\n",
    "\n",
    "1. Solve for the non-stochastic steady-state\n",
    "2. Perturbe the model around its non-stochastic steady-state\n",
    "3. Use the perturbation to calculate out-of-steady-state dynamics\n",
    "\n",
    "I use the [BKM and GenBKM](https://julienpascal.github.io/post/genbkm/) algorithms for step 2 and 3, which means that the only theoretical tool needed is **backward induction** (i.e. knowing the value tomorrow, what is the value today?).\n",
    "\n",
    "What are the cons of the methodology presented here? First, the methodology assumes a **small aggregate shock**. An implicit assumption is that aggregate shocks do not modify the value of the non-stochastic steady-state. Said differently, the cycle does not change the trend, [which seems to be violated in some instances](https://www.youtube.com/watch?v=K2X1GiTaxHw). If the shock is large, the value of steady-state may be altered and the methodology presented here is not adequate. An example of a large shock could be the disruption caused by COVID-19.\n",
    "\n",
    "This methodology also fails when the non-stochastic steady-state is not relevant for the dynamic economy. This can problematic in portfolio choice problems, in which portfolios are indeterminate when aggregate uncertainty vanishes (see [Coeurdacier et al (2011)](https://hal-sciencespo.archives-ouvertes.fr/hal-00972801/document)).\n",
    "\n",
    "On the pro side, the methodology presented here is fast (orders of magnitude faster than [Krusell-Smith (1998)](https://notes.quantecon.org/submission/5bb58d1e11611400157fdc8d)) and transparent. The code can be [downloaded here](https://github.com/JulienPascal/AiyagariAggregateUncertainty)."
   ]
  },
  {
   "cell_type": "markdown",
   "metadata": {},
   "source": [
    "## I. The Model\n",
    "\n"
   ]
  },
  {
   "cell_type": "markdown",
   "metadata": {},
   "source": [
    "In the model of Aiyagari (1994), there is continuum of agents each maximizing an infinite flow of discounted utility:\n",
    "\n",
    "$$ E_{0} \\sum_{t=0}^{\\infty} \\beta^t U(c_t) $$\n",
    "\n",
    "subject to the constraint that consumption plus savings in period $t$ (the left hand side of the next equation) is equal to labor earnings plus savings inherited from the last period (the right hand side of the next equation):\n",
    "\n",
    "$$ c_t + a_{t+1} = w_t l_t + (1 + r_t) a_t $$ \n",
    "\n",
    "The variable $l_t$ captures idiosyncratic risk in labor earnings and could be interpreted as unemployment risk. We also make the assumptions that consumption cannot be negative and that agents cannot borrow more than a certain amount $B$:\n",
    "\n",
    "$$ c_t \\geq 0 $$\n",
    "\n",
    "$$ a_t \\geq -B $$ \n",
    "\n",
    "The behavior of firms can be summarized by a representative firm hiring workers and capital:\n",
    "\n",
    "$$ Y_t = z_t K_t^{\\alpha} L_t^{1-\\alpha} $$ \n",
    "\n",
    "where $Y_t$ is total output, $K_t$ is the aggregate capital level and $L_t$ is the aggregate labor supply. The variables $w_t$ and $r_t$ are pinned down each period by the first order conditions (FOCs) of the representative firm. Note that at the non-stochastic steady-state $z_t = z_{SS} = 1$ (by definition) and both $w_t$ and $r_t$ are constant. Importantly, because agents have to take into consideration the value of $w_t$ and $r_t$ when making decisions, the cross-sectional distribution of agents across capital and idiosyncratic states matters (through the FOCs of the representative firm)."
   ]
  },
  {
   "cell_type": "markdown",
   "metadata": {},
   "source": [
    "## II. Methodology\n",
    "\n",
    "To solve for individual policy functions, I use the endogenous grid method (EGM) of Carroll (2006). The main idea of this method is to start from the end-of-period level of capital. Using the Euler equation, one may recover the beginning-of-period consumption and level of capital without using a root-finding algorithm. \n",
    "\n",
    "To determine the non-stochastic equilibrium, I solve for the fixed-point problem over the aggregate capital level f(K*) = 0 using [Brent's method](https://en.wikipedia.org/wiki/Brent%27s_method).\n",
    "\n",
    "To calculate the response of the economy to one-period unforeseen aggregate shock (an \"MIT shock\"), I use a standard backward-forward [\"shooting\" method](https://en.wikipedia.org/wiki/Shooting_method): \n",
    "1. holding the path of aggregate capital $\\{K_t\\}_{t=1}^{T}$, calculate the policy functions\n",
    "2. holding constant the policy functions, calculate the aggregate capital $\\{K_t\\}_{t=1}^{T}$\n",
    "3. repeat until convergence of the path for aggregate capital $\\{K_t\\}_{t=1}^{T}$\n",
    "\n",
    "To simulate out-of-steady-state dynamics, I use the [BKM algorithm](https://ideas.repec.org/a/eee/dyncon/v89y2018icp68-92.html), which relies on the assumption that the response of the economy to an aggregate shock $d_t$ is **linear** with respect to the **aggregate state** $z_t$:\n",
    "\n",
    "$$ d_t = z_t d(1, 0, 0, ...) + z_{t-1}d(0, 1, 0, ...) + z_{t-2}d(0, 0, 1, ...) + ... $$ \n",
    "\n",
    "or more compactly:\n",
    "\n",
    "$$ d_t = \\sum_{k=0}^{+\\infty} z_{t-k} d_{k} $$ \n",
    "\n",
    "where \n",
    "\n",
    "$$ d_{1} = d(1,0,0,...)$$\n",
    "$$ d_{2} = d(0,1,0,...)$$\n",
    "$$ d_{3} = d(0,0,1,...)$$\n",
    "\n",
    "That is, the evolution of equilibrium variables is a moving average of past shocks. However, when calculating several trajectories after an MIT shock, one sees that the linearity assumption is slightly violated. Hence, I use the [GenBKM algorithm](https://irihs.ihs.ac.at/id/eprint/4500/), which is a refinement of the BKM algorithm taking into consideration these slight violations of linearity."
   ]
  },
  {
   "cell_type": "markdown",
   "metadata": {},
   "source": [
    "## III. Implementation\n",
    "\n",
    "These ideas are implemented using Python."
   ]
  },
  {
   "cell_type": "code",
   "execution_count": 276,
   "metadata": {},
   "outputs": [
    {
     "name": "stdout",
     "output_type": "stream",
     "text": [
      "Python 3.8.10\n"
     ]
    }
   ],
   "source": [
    "!python3 --version"
   ]
  },
  {
   "cell_type": "markdown",
   "metadata": {},
   "source": [
    "### II. A Dependencies"
   ]
  },
  {
   "cell_type": "code",
   "execution_count": 277,
   "metadata": {},
   "outputs": [],
   "source": [
    "import numpy as np\n",
    "import matplotlib.pyplot as plt\n",
    "from scipy.stats import truncnorm\n",
    "\n",
    "import torch\n",
    "from scipy.stats import truncnorm\n",
    "from scipy.interpolate import interp1d\n",
    "from scipy.optimize import minimize_scalar\n",
    "import scipy as sp"
   ]
  },
  {
   "cell_type": "code",
   "execution_count": 279,
   "metadata": {},
   "outputs": [],
   "source": [
    "class Params:\n",
    "    \"\"\"\n",
    "    Class that contains parameters of the model.\n",
    "    \"\"\"\n",
    "    #grid_size=201\n",
    "    def __init__(self, alpha=0.4, beta=0.98, gamma=2.0, delta=0.02, rho=0.95, a_min=0.0, a_max=200.0,\n",
    "                 nTrans=2, jfp=0.6, jlp=0.2, endowment_low=1.0, endowment_high=2.5, Lbar=1.0,\n",
    "                 nX=5, nEps=1, nI=2, grid_size=200):\n",
    "        # Economic Parameters\n",
    "        self.alpha = alpha\n",
    "        self.beta = beta\n",
    "        self.gamma = gamma\n",
    "        self.delta = delta\n",
    "        self.rho = rho  # persistence of aggregate shock\n",
    "        self.a_min = a_min  # borrowing constraint\n",
    "        self.a_max = a_max  # maximum capital\n",
    "        self.nTrans = nTrans  # number of elements in the endogenous state transition matrix\n",
    "        self.jfp = jfp  # job finding probability\n",
    "        self.jlp = jlp  # job losing probability\n",
    "        # Exogenous transition matrix. Convention: rows = future state; columns = current state\n",
    "        self.exog_trans = np.array([[1.0 - jfp, jlp], [jfp, 1.0 - jlp]])\n",
    "        self.endowment_low = endowment_low  # labor low state\n",
    "        self.endowment_high = endowment_high  # labor high state\n",
    "        self.Lbar = Lbar  # normalization constant\n",
    "\n",
    "        # Other parameters\n",
    "        self.nX = nX  # number of aggregate variables\n",
    "        self.nEps = nEps  # dimension of shock\n",
    "        self.nI = nI  # number of idiosyncratic states\n",
    "        # Indices for aggregate variables\n",
    "        self.iZ, self.iR, self.iK, self.iY, self.iC = range(nX)  # index for the value of Z, R, K, Y, C\n",
    "        self.grid_size = grid_size  # Number of points on the grid for savings\n",
    "\n",
    "        # Grid for savings\n",
    "        self.grid_savings = np.linspace(a_min**0.25, a_max**0.25, grid_size)**4\n",
    "        \n",
    "        # Repeat grid savings nI times\n",
    "        self.grid_savings_long = np.tile(self.grid_savings, nI)\n",
    "        \n",
    "        # Reshape grid for savings\n",
    "        self.grid_savings_reshaped = np.tile(self.grid_savings, (nI, 1))\n",
    "        \n",
    "        # Labor endowments\n",
    "        self.grid_endowment = np.array([endowment_low, endowment_high])\n",
    "        #print(f\"Grid endowmnent: {self.grid_endowment}\")\n",
    "        # Adjusting labor endowments based on Lbar and stationary distribution\n",
    "        #print(f\"exo trans.: {self.exog_trans}\")\n",
    "        stationary_dist = get_stationary_dist(self.exog_trans)  # Implement get_stationary_dist method\n",
    "        #print(f\"stationary distrib.: {stationary_dist}\")\n",
    "        self.Lbar = np.dot(self.grid_endowment, stationary_dist)\n",
    "        #print(f\"Lbar: {self.Lbar}\")\n",
    "        self.grid_endowment /= self.Lbar\n",
    "        self.Lbar = 1.0  # Reset to normalization constant\n",
    "        \n",
    "        # Reshape grid of endowments\n",
    "        self.grid_endowment_reshaped = np.tile(self.grid_endowment, (grid_size, 1)).T\n",
    "\n",
    "        # Repeat for convenience\n",
    "        self.exog_trans_repeated = sp.sparse.kron(self.exog_trans, sp.sparse.eye(self.grid_size))\n",
    "\n",
    "def show_params(p):\n",
    "    list_to_show = ['alpha', 'beta', 'gamma', 'delta', 'rho', 'a_min', 'a_max',\n",
    "                 'nTrans', 'jfp', 'jlp', 'endowment_low', 'endowment_high', 'Lbar',\n",
    "                 'nX', 'nEps', 'nI', 'grid_size']\n",
    "    for el in list_to_show:\n",
    "        print(f\"parameter {el}:\" + str(eval(f\"p.{el}\")))\n",
    "        \n",
    "def function_u(c, p):\n",
    "    \"\"\"\n",
    "    Utility function\n",
    "    \"\"\"\n",
    "    return (c**(1.0 - p.gamma) - 1.0)/(1.0 - p.gamma)\n",
    "\n",
    "\n",
    "#Marginal utility function\n",
    "def function_u_prime(c, p):\n",
    "    \"\"\"\n",
    "    Marginal utility function\n",
    "    \"\"\"\n",
    "    return c**(-p.gamma)\n",
    "\n",
    "\n",
    "def function_u_prime_inv(c, p):\n",
    "    \"\"\"\n",
    "    #Inverse marginal utility function\n",
    "    \"\"\"\n",
    "    return c**(-1.0/p.gamma)\n",
    "\n",
    "def function_R(K, Z, p):\n",
    "    \"\"\"\n",
    "    Interest rate\n",
    "    K: level of capital\n",
    "    Z: aggregate state\n",
    "    \"\"\"\n",
    "    return Z * p.alpha*(K/p.Lbar)**(p.alpha - 1.0) + 1.0 - p.delta\n",
    "\n",
    "\n",
    "def function_W(K, Z, p):\n",
    "    \"\"\"\n",
    "    Wage\n",
    "    K: level of capital\n",
    "    Z: aggregate state\n",
    "    \"\"\"\n",
    "    return Z*(1.0 - p.alpha)*(K/p.Lbar)**(1.0 - p.alpha)\n",
    "\n",
    "def get_stationary_dist(T):\n",
    "    \"\"\"\n",
    "    Returns the stationary distribution of A'=TA.\n",
    "    \"\"\"\n",
    "    # Compute eigenvalues and eigenvectors of T\n",
    "    if sp.sparse.issparse(T) == False:\n",
    "        eigenvalues, eigenvectors = np.linalg.eig(T)\n",
    "    else:\n",
    "        eigenvalues, eigenvectors = sp.sparse.linalg.eigs(T)\n",
    "    \n",
    "    # Extract the real parts of eigenvalues and eigenvectors\n",
    "    eigenvalues_real = np.real(eigenvalues)\n",
    "    eigenvectors_real = np.real(eigenvectors)\n",
    "    \n",
    "    # Find index of the eigenvalue that is closest to 1\n",
    "    i = np.argmin(np.abs(eigenvalues_real - 1.0))\n",
    "    \n",
    "    # Select the corresponding eigenvector and normalize\n",
    "    eigenvector_real = eigenvectors_real[:, i]\n",
    "    return eigenvector_real / np.sum(eigenvector_real)\n"
   ]
  },
  {
   "cell_type": "code",
   "execution_count": 280,
   "metadata": {},
   "outputs": [
    {
     "name": "stdout",
     "output_type": "stream",
     "text": [
      "(2, 200)\n",
      "[0.47058824 1.17647059]\n"
     ]
    }
   ],
   "source": [
    "p = Params()\n",
    "print(p.grid_savings_reshaped.shape)\n",
    "print(p.grid_endowment)"
   ]
  },
  {
   "cell_type": "code",
   "execution_count": 281,
   "metadata": {},
   "outputs": [
    {
     "data": {
      "text/plain": [
       "array([[0.4, 0.2],\n",
       "       [0.6, 0.8]])"
      ]
     },
     "execution_count": 281,
     "metadata": {},
     "output_type": "execute_result"
    }
   ],
   "source": [
    "p.exog_trans"
   ]
  },
  {
   "cell_type": "code",
   "execution_count": 282,
   "metadata": {},
   "outputs": [
    {
     "name": "stdout",
     "output_type": "stream",
     "text": [
      "parameter alpha:0.4\n",
      "parameter beta:0.98\n",
      "parameter gamma:2.0\n",
      "parameter delta:0.02\n",
      "parameter rho:0.95\n",
      "parameter a_min:0.0\n",
      "parameter a_max:200.0\n",
      "parameter nTrans:2\n",
      "parameter jfp:0.6\n",
      "parameter jlp:0.2\n",
      "parameter endowment_low:1.0\n",
      "parameter endowment_high:2.5\n",
      "parameter Lbar:1.0\n",
      "parameter nX:5\n",
      "parameter nEps:1\n",
      "parameter nI:2\n",
      "parameter grid_size:200\n"
     ]
    }
   ],
   "source": [
    "show_params(p)"
   ]
  },
  {
   "cell_type": "code",
   "execution_count": 283,
   "metadata": {},
   "outputs": [],
   "source": [
    "def get_c(G_low, G_high, R, W, p):\n",
    "    \"\"\"\n",
    "    Compute next period's consumption, conditional on next period's income\n",
    "    G_low: consumption function low idiosyncratic state\n",
    "    G_high:  consumption function low idiosyncratic state \n",
    "    R: interest rate\n",
    "    W: wage\n",
    "    p: params object\n",
    "    \n",
    "    \"\"\"\n",
    "    c_grid = np.zeros_like(p.grid_savings_reshaped)\n",
    "    c_grid[0, :] = R*p.grid_savings_reshaped[0,:] + W*p.grid_endowment_reshaped[0,:] - np.maximum(p.a_min, G_low(p.grid_savings_reshaped[0,:]))\n",
    "    c_grid[1, :] = R*p.grid_savings_reshaped[1,:] + W*p.grid_endowment_reshaped[1,:] - np.maximum(p.a_min, G_high(p.grid_savings_reshaped[1,:]))\n",
    "\n",
    "    return c_grid\n"
   ]
  },
  {
   "cell_type": "code",
   "execution_count": 524,
   "metadata": {},
   "outputs": [],
   "source": [
    "def euler_back(G_low, G_high, R, W, R_prime, W_prime, p):\n",
    "    \"\"\"\n",
    "    Solve the Euler equation backward, using the EGM method\n",
    "    Input:\n",
    "    -----\n",
    "    G_low::Function: savings policy rule in the next period in bad state\n",
    "    G_high::Function: savings policy rule in the next period in good state\n",
    "    R::Float64: interest rate in the present period\n",
    "    W::Float64: wage in the present period\n",
    "    R_prime::Float64: interest rate next period \n",
    "    W_prime::Float64: wage next period\n",
    "    Output:\n",
    "    -------\n",
    "    a: policy function a' = g(a,e) for points on the p.grid_savings_reshaped\n",
    "    c: consumption c'= f(a,e) for points on the p.grid_savings_reshaped\n",
    "    Kg_low_f: policy function a' = g(a,e_low) for any a (interpolated)\n",
    "    Kg_high_f: policy function a' = g(a,e_high) for any a (interpolated)\n",
    "    \"\"\"\n",
    "\n",
    "    # 1. Compute next period's consumption, conditional on next period's income\n",
    "    # c_prime = get_c(G_low, G_high, R_prime, W_prime, p)\n",
    "    c_prime = get_c(G_low, G_high, R_prime, W_prime, p)\n",
    "    \n",
    "    # 1.' Compute next period's marginal utility of consumption:\n",
    "    # u′!(up_cprime, c_prime, p)\n",
    "    up_cprime = function_u_prime(c_prime, p) \n",
    "\n",
    "    # 2. Expectation with respect to changes in idiosyncratic productivity:\n",
    "    ## np.transpose(p.exog_trans): rows sum up to one\n",
    "    ## (2,2) * (2, grid size) = (2, grid size)\n",
    "    E_up_cp = np.matmul(np.transpose(p.exog_trans), up_cprime)\n",
    "\n",
    "    # 3. Marginal utility of consumption = R' *  beta*Eupcp\n",
    "    up_c = np.multiply(R_prime*p.beta, E_up_cp)\n",
    "    \n",
    "    # 4. Invert marginal utility of consumption to get consumption:\n",
    "    #c = similar(c_prime)\n",
    "    #u′_inv!(c, up_c, p)\n",
    "    c = function_u_prime_inv(up_c, p)\n",
    "\n",
    "    # 5. The budget constraint implies the beginning-of-period asset:\n",
    "    # aR = (a' + c - y)\n",
    "    a = (p.grid_savings_reshaped + c - W*p.grid_endowment_reshaped)/R\n",
    "\n",
    "    # Assuming 'a' is a 2D numpy array and 'p.grid_savings_reshaped' is similarly structured.\n",
    "    # Sort data in increasing order:\n",
    "    p1 = np.argsort(a[0, :])\n",
    "    p2 = np.argsort(a[1, :])\n",
    "    \n",
    "    # Linear interpolation to get a function a'=g(a,e)\n",
    "    # For extrapolation, set 'fill_value' to \"extrapolate\" or specify bounds with specific values.\n",
    "    Kg_low = interp1d(a[0, p1], p.grid_savings_reshaped[0, p1], kind='linear', fill_value=\"extrapolate\")\n",
    "    Kg_high = interp1d(a[1, p2], p.grid_savings_reshaped[1, p2], kind='linear', fill_value=\"extrapolate\")\n",
    "    \n",
    "    # Define new functions using the interpolation objects defined above:\n",
    "    def Kg_low_f(x):\n",
    "        return Kg_low(x)\n",
    "    \n",
    "    def Kg_high_f(x):\n",
    "        return Kg_high(x)\n",
    "\n",
    "    return a, c, Kg_low_f, Kg_high_f\n",
    "\n",
    "\n",
    "def make_trans_mat(G, p):\n",
    "    \"\"\"\n",
    "    Define a transition matrix.\n",
    "    A'=TA\n",
    "    The state for an individual is determined by her current level of asset + current idiosyncratic shock.\n",
    "    Works, but slow\n",
    "    G obtained by EGM\n",
    "    \"\"\"\n",
    "    # To hold both idiosyncratic state + asset level\n",
    "    T = np.zeros((p.nI * p.grid_size, p.nI * p.grid_size))\n",
    "    \n",
    "    # Loop over savings:\n",
    "    for a_i in range(0, p.grid_size):\n",
    "        # Loop over current idiosyncratic level:\n",
    "        for j in range(0, p.nI):\n",
    "            # Find the row index such that the policy function generates the savings next period:\n",
    "            # left: a[i-1] < v <= a[i]\n",
    "            # numpy.searchsorted(a, v, side='left', sorter=None)\n",
    "            ind = np.searchsorted(G[j, :], p.grid_savings_reshaped[j, a_i], side='left')\n",
    "            # Control for boundary cases\n",
    "            ## Minimum upper index: 1, maximum upper index p.grid_size - 1\n",
    "            ind = np.clip(ind, 1, p.grid_size - 1)  \n",
    "            #ind = np.clip(ind, 0, p.grid_size - 1)   \n",
    "            # Project on grid using Young (2010) method. First calculate weights\n",
    "            pp = (p.grid_savings_reshaped[j, a_i] - G[j, ind-1]) / (G[j, ind] - G[j, ind-1])\n",
    "            pp = np.clip(pp, 0.0, 1.0) \n",
    "            sj = j * p.grid_size\n",
    "            # Loop over next period's idiosyncratic level\n",
    "            for k in range(0, p.nI):\n",
    "                sk = k * p.grid_size\n",
    "                # Weight on the grid point above\n",
    "                T[sk + ind, sj + a_i] = pp * p.exog_trans[k, j]\n",
    "                # Weight on the grid point below\n",
    "                T[sk + ind - 1, sj + a_i] = (1.0 - pp) * p.exog_trans[k, j]\n",
    "                \n",
    "    return T\n",
    "\n",
    "def make_trans_mat_vectorized(G, p, tol_grid = 1e-12):\n",
    "    \"\"\"\n",
    "    G: obtained by the EGM\n",
    "    \"\"\"\n",
    "    # Rows of T correspond to where we are going, cols correspond to where we are coming from\n",
    "    T = np.zeros((p.nI * p.grid_size, p.nI * p.grid_size))\n",
    "    cols_indices = np.arange(p.grid_size)\n",
    "    for j in range(0, p.nI):\n",
    "        #numpy.searchsorted(a, v, side='left', sorter=None)[source]\n",
    "        #Find indices where elements should be inserted to maintain order.\n",
    "        #Find the indices into a sorted array a such that, if the corresponding elements in v were inserted before the indices, the order of a would be preserved.\n",
    "        # right a[i-1] <= v < a[i]\n",
    "        # HERE: Find the index i such that  G[i-1] <= p.grid_savings < G[i]\n",
    "        i = np.minimum(np.maximum(np.searchsorted(G[j,:], p.grid_savings, side='right'), 1), p.grid_size - 1)\n",
    "        #print(i)\n",
    "        pp = (p.grid_savings - G[j,i-1]) / (G[j,i] - G[j,i-1])\n",
    "        pp =  np.clip(pp, 0.0, 1.0)\n",
    "        sj = j * p.grid_size\n",
    "        for k in range(0, p.nI):\n",
    "            sk = k* p.grid_size\n",
    "            T[sk + i, sj + cols_indices] = pp * p.exog_trans[k,j]\n",
    "            T[sk + i - 1, sj + cols_indices] = (1.0 - pp)* p.exog_trans[k,j]\n",
    "\n",
    "    #assert np.allclose(T.sum(axis=0), np.ones(N*Asize))\n",
    "    return T\n",
    "    \n",
    "def make_trans_mat_vectorized_with_functions_old(g_low, g_high, p, tol_grid = 1e-12):\n",
    "    \"\"\"\n",
    "    Define a transition matrix.\n",
    "    A'=TA\n",
    "    The state for an individual is determined by her current level of asset + current idiosyncratic shock.\n",
    "    g_low: savings function for low state\n",
    "    g_high: savings function for high state\n",
    "    Hard coded for two idio states only\n",
    "    \"\"\"\n",
    "    # To hold both idiosyncratic state + asset level\n",
    "    T = np.zeros((p.grid_size, p.nI * p.grid_size))\n",
    "    T_after_idio = np.zeros((p.nI * p.grid_size, p.nI * p.grid_size))\n",
    "    pp = np.zeros((p.nI, p.grid_size))\n",
    "    Index_above = np.zeros_like(pp, dtype=int)\n",
    "    Index_below = np.zeros_like(pp, dtype=int)\n",
    "    cols_indices = np.arange(p.grid_size)\n",
    "\n",
    "    for j in range(0, p.nI): #low state, then high state\n",
    "        if j == 0:\n",
    "            G_clipped = g_low(p.grid_savings)\n",
    "        else:\n",
    "            G_clipped = g_high(p.grid_savings)\n",
    "            \n",
    "        # Find closest grid indices for policies\n",
    "        # left: a[i-1] < v <= a[i]\n",
    "        # numpy.searchsorted(a, v, side='left', sorter=None)\n",
    "        closest_indices = np.clip(np.searchsorted(p.grid_savings, G_clipped, side=\"left\"), 1, p.grid_size - 1)\n",
    "\n",
    "        Index_above[j,:] = closest_indices\n",
    "        Index_below[j,:] = closest_indices - 1\n",
    "        \n",
    "        #pp = np.zeros_like(G_clipped)\n",
    "        pp[j,:] = 1.0 - (G_clipped - p.grid_savings[Index_below[j,:]])/(p.grid_savings[Index_above[j,:]] - p.grid_savings[Index_below[j,:]])\n",
    "        pp[j,:] = np.clip(pp[j,:], 0.0, 1.0)\n",
    "    \n",
    "    for j in range(0, p.nI): #low state, high state\n",
    "        sj = j * p.grid_size\n",
    "        # First rows, then columns\n",
    "        col_indices = sj + cols_indices\n",
    "        row_indices = Index_below[j,:]\n",
    "        below_indices = (row_indices, col_indices)\n",
    "        np.add.at(T, below_indices, pp[j,:])\n",
    "        row_indices = Index_above[j,:]\n",
    "        above_indices = (row_indices, col_indices)\n",
    "        np.add.at(T, above_indices, (1 - pp[j,:]))\n",
    "\n",
    "    # Apply idio probas\n",
    "    T_after_idio[0:p.grid_size, 0:p.grid_size] = p.exog_trans[0, 0]*T[:, 0:p.grid_size]\n",
    "    T_after_idio[p.grid_size:, 0:p.grid_size] = p.exog_trans[1, 0]*T[:, 0:p.grid_size]\n",
    "    T_after_idio[0:p.grid_size, p.grid_size:] = p.exog_trans[0, 1]*T[:, p.grid_size:]\n",
    "    T_after_idio[p.grid_size:, p.grid_size:] = p.exog_trans[1, 1]*T[:, p.grid_size:]\n",
    "    \n",
    "    return T_after_idio\n",
    "\n",
    "def make_trans_mat_vectorized_with_functions(g_low, g_high, p):\n",
    "    \"\"\"\n",
    "    Define a transition matrix.\n",
    "    A'=TA\n",
    "    The state for an individual is determined by her current level of asset + current idiosyncratic shock.\n",
    "    g_low: savings function for low state\n",
    "    g_high: savings function for high state\n",
    "    Should work for more than 2 idio states\n",
    "    \"\"\"\n",
    "    # To hold both idiosyncratic state + asset level\n",
    "    T = np.zeros((p.grid_size, p.nI * p.grid_size)) #before idiosyncratic shocks\n",
    "    T_after_idio = np.zeros((p.nI * p.grid_size, p.nI * p.grid_size)) #after idiosyncratic shocks\n",
    "    col_ind = np.arange(0, p.grid_size) #(a0, ..., aN)\n",
    "    col_indices = np.arange(0, p.nI * p.grid_size) #for (a0|e1, ..., aN|e1, a0|e2, ..., aN|e2)\n",
    "\n",
    "    # First low state, then high state\n",
    "    g_low_and_high = np.hstack((g_low(p.grid_savings), g_high(p.grid_savings)))\n",
    "            \n",
    "    # Find closest grid indices for policies\n",
    "    # left: a[i-1] < v <= a[i]\n",
    "    # numpy.searchsorted(a, v, side='left', sorter=None)\n",
    "    closest_indices = np.clip(np.searchsorted(p.grid_savings, g_low_and_high, side=\"left\"), 1, p.grid_size - 1)\n",
    "    Index_above = closest_indices\n",
    "    Index_below = closest_indices - 1\n",
    "    \n",
    "    #Transition probas\n",
    "    pp = 1.0 - (g_low_and_high - p.grid_savings[Index_below])/(p.grid_savings[Index_above] - p.grid_savings[Index_below])\n",
    "    pp = np.clip(pp, 0.0, 1.0)\n",
    "    \n",
    "    # First rows, then columns\n",
    "    row_indices = Index_below\n",
    "    below_indices = (row_indices, col_indices)\n",
    "    np.add.at(T, below_indices, pp)\n",
    "    row_indices = Index_above\n",
    "    above_indices = (row_indices, col_indices)\n",
    "    np.add.at(T, above_indices, (1 - pp))\n",
    "\n",
    "    # Current idio state\n",
    "    for j in range(0, p.nI): #low state, high state\n",
    "        sj_low = j * p.grid_size\n",
    "        sj_high = (j+1) * p.grid_size\n",
    "        # Next idio state\n",
    "        for k in range(0, p.nI): #low state, high state\n",
    "            sk_low = k * p.grid_size\n",
    "            sk_high = (k+1) * p.grid_size\n",
    "            T_after_idio[sk_low:sk_high, sj_low:sj_high] = p.exog_trans[k, j]*T[:, col_ind + sj_low]\n",
    "\n",
    "    return T_after_idio\n",
    "\n",
    "def calculate_ss_density_vectorized(g_low, g_high, d_init, p, tol_grid = 1e-12, reps = 10000, tol=1e-12, verbose=False):\n",
    "    \"\"\"\n",
    "    Iterate forward without defining explicitly the T matrix in A'=TA.\n",
    "    g_low: savings function for low state\n",
    "    g_high: savings function for high state\n",
    "    Should work for more than 2 idio states\n",
    "    \"\"\"\n",
    "    # To hold both idiosyncratic state + asset level\n",
    "    #T = np.zeros((p.nI * p.grid_size, p.nI * p.grid_size))\n",
    "    success_flag = 0\n",
    "    mass = np.copy(d_init)\n",
    "    mass = mass/np.sum(mass) #normalize, just in case\n",
    "    \n",
    "    col_ind = np.arange(0, p.grid_size) #(a0, ..., aN)\n",
    "    col_indices = np.arange(0, p.nI * p.grid_size) #for (a0|e1, ..., aN|e1, a0|e2, ..., aN|e2)\n",
    "\n",
    "    # First low state, then high state\n",
    "    g_low_and_high = np.hstack((g_low(p.grid_savings), g_high(p.grid_savings)))\n",
    "\n",
    "    # Find closest grid indices for policies\n",
    "    # left: a[i-1] < v <= a[i]\n",
    "    # numpy.searchsorted(a, v, side='left', sorter=None)\n",
    "    closest_indices = np.clip(np.searchsorted(p.grid_savings, g_low_and_high, side=\"left\"), 1, p.grid_size - 1)        \n",
    "    Index_above = closest_indices\n",
    "    Index_below = closest_indices - 1\n",
    "\n",
    "    #Transition probas\n",
    "    pp = 1.0 - (g_low_and_high - p.grid_savings[Index_below])/(p.grid_savings[Index_above] - p.grid_savings[Index_below])\n",
    "    pp = np.clip(pp, 0.0, 1.0)\n",
    "\n",
    "    # Correct for idio level\n",
    "    for j in range(0, p.nI):\n",
    "        sj = j * p.grid_size\n",
    "        sj_low = j * p.grid_size\n",
    "        sj_high = (j+1) * p.grid_size\n",
    "        Index_above[sj_low:sj_high] = sj + Index_above[sj_low:sj_high]\n",
    "        Index_below[sj_low:sj_high] = sj + Index_below[sj_low:sj_high]\n",
    "\n",
    "    \n",
    "    for rep in range(0, reps):\n",
    "        mass_new = np.zeros((p.nI * p.grid_size))\n",
    "        np.add.at(mass_new, Index_below, np.multiply(pp, mass))\n",
    "        np.add.at(mass_new, Index_above, np.multiply((1 - pp), mass))\n",
    "    \n",
    "        # Idiosyncratic shocks\n",
    "        mass_new_idio = np.zeros_like(mass_new)\n",
    "        # Current idiosyncratic level\n",
    "        for j in range(0, p.nI): #low state, high state\n",
    "            sj_low = j * p.grid_size\n",
    "            sj_high = (j+1) * p.grid_size\n",
    "            # Next idio state\n",
    "            for k in range(0, p.nI): #low state, high state\n",
    "                sk_low = k * p.grid_size\n",
    "                sk_high = (k+1) * p.grid_size\n",
    "                mass_new_idio[sj_low:sj_high] += p.exog_trans[j, k]*mass_new[sk_low:sk_high]\n",
    "\n",
    "        # Normalize to avoid numerical errors\n",
    "        mass_new_idio = mass_new_idio/np.sum(mass_new_idio)\n",
    "            \n",
    "        # Check for convergence of assets grids:\n",
    "        if verbose == True:\n",
    "            if rep % 100 == 0:\n",
    "                print(np.max(np.abs(mass_new_idio - mass)))\n",
    "                \n",
    "        if np.max(np.abs(mass_new_idio - mass)) < tol:\n",
    "            if verbose == True:\n",
    "                print(f\"Convergence distribution reached after {rep} iterations\")\n",
    "                success_flag = 1\n",
    "            break\n",
    "        # Otherwise, update distribution\n",
    "        else:  \n",
    "            # update\n",
    "            mass = np.copy(mass_new_idio)\n",
    "\n",
    "    return mass, success_flag #, pp\n",
    "\n",
    "def calculate_ss_density_vectorized_2(g_low, g_high, d_init, p, tol_grid = 1e-12, reps = 10000, tol=1e-12, verbose=False):\n",
    "    \"\"\"\n",
    "    Iterate forward while defining explicitly the T matrix in A'=TA.\n",
    "    g_low: savings function for low state\n",
    "    g_high: savings function for high state\n",
    "    Should work for more than 2 idio states\n",
    "    \"\"\"\n",
    "    # To hold both idiosyncratic state + asset level\n",
    "    #T = np.zeros((p.nI * p.grid_size, p.nI * p.grid_size))\n",
    "    success_flag = 0\n",
    "    mass = np.copy(d_init)\n",
    "    mass = mass/np.sum(mass) #normalize, just in case\n",
    "\n",
    "    sp_T = sp.sparse.csr_matrix(make_trans_mat_vectorized_with_functions(g_low, g_high, p))\n",
    " \n",
    "    for rep in range(0, reps):\n",
    "        # sparse to dense matrix multiplication. Equivalent to sp_T @ mass\n",
    "        mass_new_idio = sp_T.dot(mass)\n",
    "        # Normalize to avoid numerical errors\n",
    "        mass_new_idio = mass_new_idio/np.sum(mass_new_idio)\n",
    "            \n",
    "        # Check for convergence of assets grids:\n",
    "        if verbose == True:\n",
    "            if rep % 100 == 0:\n",
    "                print(np.max(np.abs(mass_new_idio - mass)))\n",
    "                \n",
    "        if np.max(np.abs(mass_new_idio - mass)) < tol:\n",
    "            if verbose == True:\n",
    "                print(f\"Convergence distribution reached after {rep} iterations\")\n",
    "                success_flag = 1\n",
    "            break\n",
    "        # Otherwise, update distribution\n",
    "        else:  \n",
    "            # update\n",
    "            mass = np.copy(mass_new_idio)\n",
    "\n",
    "    return mass, success_flag #, pp\n",
    "\n",
    "def aggregate_K(D, p):\n",
    "    \"\"\"\n",
    "    Function to calculate the aggregate savings using the distribution of states\n",
    "    and the policy functions.\n",
    "    \n",
    "    Parameters:\n",
    "    - D: numpy.ndarray, distribution of agents.\n",
    "    - p: an object with an attribute grid_savings_long representing the savings grid.\n",
    "\n",
    "    \n",
    "    Returns:\n",
    "    - Aggregate savings as a float.\n",
    "    \"\"\"\n",
    "    return np.dot(p.grid_savings_long, D)\n",
    "\n",
    "\n",
    "def solve_EGM(g_low0, g_high0, R, W, p, max_iter=10000, tol=1e-10, verbose=False):\n",
    "    \"\"\"\n",
    "    Solve the model using the endogenous grid method.\n",
    "    \"\"\"\n",
    "    ## Grid objects\n",
    "    a_old = np.copy(p.grid_savings_reshaped)\n",
    "    a_new = np.copy(p.grid_savings_reshaped)\n",
    "    c_new = np.copy(p.grid_savings_reshaped)\n",
    "    g_low_old = g_low0\n",
    "    g_high_old = g_high0\n",
    "    ## Functions\n",
    "    g_low_new = lambda x: np.log(x + 1e-10)  # preallocate two policy functions\n",
    "    g_high_new = lambda x: np.log(x+ 1e-10)\n",
    "    success_flag = 0  # convergence reached = 1; 0 otherwise\n",
    "    \n",
    "    for it in range(max_iter):\n",
    "        \n",
    "        a_new, c_new, g_low_new, g_high_new = euler_back(g_low_old, g_high_old, R, W, R, W, p)\n",
    "    \n",
    "        # Check for convergence of assets grids:\n",
    "        if np.max(np.abs(a_new - a_old)) < tol:\n",
    "            if verbose:\n",
    "                print(f\"Convergence reached after {it+1} iterations\")\n",
    "            success_flag = 1\n",
    "            break\n",
    "        # Otherwise, update policy functions a'=g(a,e)\n",
    "        else:\n",
    "            a_old = np.copy(a_new)  # Policy function on grid points\n",
    "            g_low_old = g_low_new  # Policy function interpolated\n",
    "            g_high_old = g_high_new\n",
    "         \n",
    "    return a_new, c_new, g_low_new, g_high_new, success_flag\n",
    "\n",
    "def eq_K(K, p, z_ss=1.0, use_sparse=True):\n",
    "    \"\"\"\n",
    "    Function that is minimized when capital demand = capital supply.\n",
    "    \"\"\"\n",
    "    # Solve for policy functions using solve_EGM\n",
    "    gg, c_star, g_low, g_high, success_flag = solve_EGM(\n",
    "        lambda x: np.log(x+ 1e-10),\n",
    "        lambda x: np.log(x+ 1e-10),\n",
    "        function_R(K, z_ss, p),\n",
    "        function_W(K, z_ss, p),\n",
    "        p\n",
    "    )\n",
    "\n",
    "    # Generate transition matrix\n",
    "    tt = make_trans_mat(gg, p)\n",
    "    #tt = make_trans_mat_vectorized(gg, p)\n",
    "    \n",
    "    if use_sparse==True:\n",
    "        sp_tt = sp.sparse.csr_matrix(tt)\n",
    "        \n",
    "    # Stationary distribution\n",
    "    dd = get_stationary_dist(tt)\n",
    "\n",
    "    # Implied level of capital\n",
    "    K_implied = aggregate_K(dd, p)\n",
    "\n",
    "    # Squared difference minimized when K_implied = K\n",
    "    return 0.5 * (K_implied - K) ** 2\n",
    "\n",
    "def eq_K_vec(K, p, z_ss=1.0):\n",
    "    \"\"\"\n",
    "    Function that is minimized when capital demand = capital supply.\n",
    "    \"\"\"\n",
    "    # Solve for policy functions using solve_EGM\n",
    "    gg, c_star, g_low, g_high, success_flag = solve_EGM(\n",
    "        lambda x: np.log(x+ 1e-10),\n",
    "        lambda x: np.log(x+ 1e-10),\n",
    "        function_R(K, z_ss, p),\n",
    "        function_W(K, z_ss, p),\n",
    "        p\n",
    "    )\n",
    "\n",
    "    # A. Generate transition matrix + eigenvalues\n",
    "    #tt = make_trans_mat(gg, p)\n",
    "    tt = make_trans_mat_vectorized_with_functions(g_low, g_high, p)\n",
    "    \n",
    "    # Stationary distribution\n",
    "    dd = get_stationary_dist(tt)\n",
    "\n",
    "    # B. Iterating forward distribution\n",
    "    #dd, flag = calculate_ss_density_vectorized_2(gg, p)\n",
    "    \n",
    "    # Implied level of capital\n",
    "    K_implied = aggregate_K(dd, p)\n",
    "\n",
    "    # Squared difference minimized when K_implied = K\n",
    "    return 0.5 * (K_implied - K) ** 2"
   ]
  },
  {
   "cell_type": "code",
   "execution_count": 525,
   "metadata": {},
   "outputs": [
    {
     "data": {
      "text/plain": [
       "array([[0.4, 0.2],\n",
       "       [0.6, 0.8]])"
      ]
     },
     "execution_count": 525,
     "metadata": {},
     "output_type": "execute_result"
    }
   ],
   "source": [
    "p.exog_trans"
   ]
  },
  {
   "cell_type": "code",
   "execution_count": 526,
   "metadata": {},
   "outputs": [
    {
     "name": "stdout",
     "output_type": "stream",
     "text": [
      "1.0052382937792077\n",
      "9.50935915476668\n",
      "[1.91679364 1.91679393 1.91679825 1.91681698 1.9168674  1.91697372\n",
      " 1.91716705 1.91748542 1.91797379 1.918684  ]\n",
      "[-3.29779401 -3.29779371 -3.29778923 -3.29776982 -3.29771755 -3.29760733\n",
      " -3.29740691 -3.29707686 -3.29657059 -3.29583435]\n"
     ]
    }
   ],
   "source": [
    "# Solve for policy functions using solve_EGM\n",
    "K = 100\n",
    "z_ss = 1.0\n",
    "R = function_R(K, z_ss, p)\n",
    "R_prime = R\n",
    "W =  function_W(K, z_ss, p)\n",
    "W_prime =  function_W(K, z_ss, p)\n",
    "print(R)\n",
    "print(W_prime)\n",
    "G_low = lambda x: np.log(x+ 1e-10)\n",
    "G_high = lambda x: np.log(x+ 1e-10)\n",
    "\n",
    "# 1. Compute next period's consumption, conditional on next period's income\n",
    "# c_prime = get_c(G_low, G_high, R_prime, W_prime, p)\n",
    "c_prime = get_c(G_low, G_high, R_prime, W_prime, p)\n",
    "\n",
    "# 1.' Compute next period's marginal utility of consumption:\n",
    "# u′!(up_cprime, c_prime, p)\n",
    "up_cprime = function_u_prime(c_prime, p) \n",
    "\n",
    "# 2. Expectation with respect to changes in idiosyncratic productivity:\n",
    "## np.transpose(p.exog_trans): rows sum up to one\n",
    "## (2,2) * (2, grid size) = (2, grid size)\n",
    "#E_up_cp = transpose(p.exog_trans)* up_cprime\n",
    "E_up_cp = np.matmul(np.transpose(p.exog_trans), up_cprime)\n",
    "\n",
    "# 3. Marginal utility of consumption = R' *  beta*Eupcp\n",
    "up_c = np.multiply(R_prime*p.beta, E_up_cp)\n",
    "\n",
    "# 4. Invert marginal utility of consumption to get consumption:\n",
    "#c = similar(c_prime)\n",
    "#u′_inv!(c, up_c, p)\n",
    "c = function_u_prime_inv(up_c, p)\n",
    "\n",
    "# 5. The budget constraint implies the beginning-of-period asset:\n",
    "# aR = (a' + c - y)\n",
    "a = (p.grid_savings_reshaped + c - W*p.grid_endowment_reshaped)/R\n",
    "\n",
    "# Assuming 'a' is a 2D numpy array and 'p.grid_savings_reshaped' is similarly structured.\n",
    "# Sort data in increasing order:\n",
    "p1 = np.argsort(a[0, :])\n",
    "p2 = np.argsort(a[1, :])\n",
    "\n",
    "# Linear interpolation to get a function a'=g(a,e)\n",
    "# For extrapolation, set 'fill_value' to \"extrapolate\" or specify bounds with specific values.\n",
    "Kg_low = interp1d(a[0, p1], p.grid_savings_reshaped[0, p1], kind='linear', fill_value=\"extrapolate\")\n",
    "Kg_high = interp1d(a[1, p2], p.grid_savings_reshaped[1, p2], kind='linear', fill_value=\"extrapolate\")\n",
    "\n",
    "\n",
    "a, c, Kg_low_f, Kg_high_f = euler_back(G_low, G_high, function_R(K, z_ss, p), function_W(K, z_ss, p), function_R(K, z_ss, p), function_W(K, z_ss, p), p)\n",
    "print(a[0,0:10])\n",
    "print(a[1,0:10])\n"
   ]
  },
  {
   "cell_type": "code",
   "execution_count": 537,
   "metadata": {},
   "outputs": [
    {
     "name": "stdout",
     "output_type": "stream",
     "text": [
      "[1.45941281 1.45941306 1.45941682 1.45943311 1.45947695 1.45956941\n",
      " 1.45973753 1.46001439 1.46043906 1.46105665]\n",
      "[-4.32338275 -4.32338252 -4.32337909 -4.32336421 -4.32332415 -4.32323967\n",
      " -4.32308606 -4.32283309 -4.32244507 -4.32188079]\n"
     ]
    }
   ],
   "source": [
    "gg, c_star, g_low, g_high, success_flag = solve_EGM(\n",
    "    lambda x: np.log(x+ 1e-10),\n",
    "    lambda x: np.log(x+ 1e-10),\n",
    "    function_R(K, z_ss, p),\n",
    "    function_W(K, z_ss, p),\n",
    "    p\n",
    ")\n",
    "\n",
    "print(gg[0,0:10])\n",
    "print(gg[1,0:10])"
   ]
  },
  {
   "cell_type": "code",
   "execution_count": 538,
   "metadata": {},
   "outputs": [
    {
     "name": "stdout",
     "output_type": "stream",
     "text": [
      "CPU times: user 18 ms, sys: 1.28 ms, total: 19.3 ms\n",
      "Wall time: 15.5 ms\n"
     ]
    }
   ],
   "source": [
    "%%time\n",
    "tt = make_trans_mat(gg, p)"
   ]
  },
  {
   "cell_type": "code",
   "execution_count": 539,
   "metadata": {
    "scrolled": true
   },
   "outputs": [
    {
     "data": {
      "image/png": "[encoded data removed]",
      "text/plain": [
       "<Figure size 576x432 with 2 Axes>"
      ]
     },
     "metadata": {
      "needs_background": "light"
     },
     "output_type": "display_data"
    }
   ],
   "source": [
    "# Assuming t_star is a numpy array with your data\n",
    "# Generate label arrays\n",
    "t_star = tt\n",
    "xs = [f\"x{i}\" for i in range(1, t_star.shape[0] + 1)]\n",
    "ys = [f\"y{i}\" for i in range(1, t_star.shape[1] + 1)]\n",
    "\n",
    "# Create a heatmap\n",
    "plt.figure(figsize=(8, 6))\n",
    "plt.imshow(t_star, aspect='equal', cmap='plasma', clim=(0., 0.25),origin='lower')\n",
    "\n",
    "plt.colorbar()  # Show color scale\n",
    "plt.show()"
   ]
  },
  {
   "cell_type": "code",
   "execution_count": 540,
   "metadata": {},
   "outputs": [
    {
     "name": "stdout",
     "output_type": "stream",
     "text": [
      "CPU times: user 4.36 ms, sys: 230 µs, total: 4.59 ms\n",
      "Wall time: 2.89 ms\n"
     ]
    }
   ],
   "source": [
    "%%time\n",
    "tt2 = make_trans_mat_vectorized_with_functions(g_low, g_high, p)"
   ]
  },
  {
   "cell_type": "code",
   "execution_count": 541,
   "metadata": {
    "scrolled": true
   },
   "outputs": [
    {
     "data": {
      "image/png": "[encoded data removed]",
      "text/plain": [
       "<Figure size 576x432 with 2 Axes>"
      ]
     },
     "metadata": {
      "needs_background": "light"
     },
     "output_type": "display_data"
    }
   ],
   "source": [
    "# Assuming t_star is a numpy array with your data\n",
    "# Generate label arrays\n",
    "t_star = tt2\n",
    "xs = [f\"x{i}\" for i in range(1, t_star.shape[0] + 1)]\n",
    "ys = [f\"y{i}\" for i in range(1, t_star.shape[1] + 1)]\n",
    "\n",
    "# Create a heatmap\n",
    "plt.figure(figsize=(8, 6))\n",
    "plt.imshow(t_star, aspect='equal', cmap='plasma', clim=(0., 0.25),origin='lower')\n",
    "\n",
    "plt.colorbar()  # Show color scale\n",
    "plt.show()"
   ]
  },
  {
   "cell_type": "markdown",
   "metadata": {},
   "source": [
    "### II.B Steady-state"
   ]
  },
  {
   "cell_type": "markdown",
   "metadata": {},
   "source": [
    "#### Finding the steady-state value of capital\n",
    "\n",
    "Finding the non-stochastic equilibrium is a fixed-point problem over the aggregate capital level f(K*) = 0, which can be solved using [Brent's method](https://en.wikipedia.org/wiki/Brent%27s_method):"
   ]
  },
  {
   "cell_type": "code",
   "execution_count": 542,
   "metadata": {
    "scrolled": true
   },
   "outputs": [
    {
     "name": "stdout",
     "output_type": "stream",
     "text": [
      " message: Solution found.\n",
      " success: True\n",
      "  status: 0\n",
      "     fun: 5.89066901434097e-11\n",
      "       x: 46.817294432661186\n",
      "     nit: 22\n",
      "    nfev: 22\n",
      "46.817294432661186\n",
      "CPU times: user 36.3 s, sys: 30.8 s, total: 1min 7s\n",
      "Wall time: 9.35 s\n"
     ]
    }
   ],
   "source": [
    "%%time\n",
    "\n",
    "p = Params()  # Initialize parameters\n",
    "z_ss = 1.0  # Non-stochastic steady-state aggregate productivity\n",
    "\n",
    "# Optimize to find steady-state value of capital using Brent's method\n",
    "res = minimize_scalar(lambda K: eq_K(K, p, z_ss=z_ss), bounds=(10, 100), method='bounded')\n",
    "K_star = res.x  # Steady-state value of capital\n",
    "print(res)\n",
    "print(K_star)"
   ]
  },
  {
   "cell_type": "code",
   "execution_count": 543,
   "metadata": {},
   "outputs": [
    {
     "data": {
      "text/plain": [
       "5.89066901434097e-11"
      ]
     },
     "execution_count": 543,
     "metadata": {},
     "output_type": "execute_result"
    }
   ],
   "source": [
    "eq_K(res.x, p, z_ss=z_ss) "
   ]
  },
  {
   "cell_type": "code",
   "execution_count": 544,
   "metadata": {},
   "outputs": [
    {
     "name": "stdout",
     "output_type": "stream",
     "text": [
      "Steady-state value of capital K* = 46.817294432661186\n",
      "Steady-state value of interest rate R* = 1.0197938724866495\n",
      "Steady-state value of wage W* = 6.03107928439277\n"
     ]
    }
   ],
   "source": [
    "# Solve for the optimal policy functions at the steady-state\n",
    "g_star, c_star, g_low_star, g_high_star, success_flag = solve_EGM(\n",
    "    lambda x: np.log(x + 1e-10), \n",
    "    lambda x: np.log(x+ 1e-10), \n",
    "    function_R(K_star, z_ss, p), \n",
    "    function_W(K_star, z_ss, p), \n",
    "    p\n",
    ")\n",
    "\n",
    "print(f\"Steady-state value of capital K* = {K_star}\")\n",
    "print(f\"Steady-state value of interest rate R* = {function_R(K_star, z_ss, p)}\")\n",
    "print(f\"Steady-state value of wage W* = {function_W(K_star, z_ss, p)}\")\n",
    "\n",
    "# Generate the transition matrix and find the stationary distribution at the steady-state\n",
    "t_star = make_trans_mat(g_star, p)  # Generate transition matrix\n",
    "d_star = get_stationary_dist(t_star)  # Stationary distribution\n",
    "\n",
    "t_star_bis = make_trans_mat_vectorized_with_functions(g_low_star, g_high_star, p)\n",
    "d_star_bis = get_stationary_dist(t_star_bis)  # Stationary distribution"
   ]
  },
  {
   "cell_type": "markdown",
   "metadata": {},
   "source": [
    "#### Visualizing transition probabilities"
   ]
  },
  {
   "cell_type": "code",
   "execution_count": 545,
   "metadata": {},
   "outputs": [
    {
     "data": {
      "image/png": "[encoded data removed]",
      "text/plain": [
       "<Figure size 576x432 with 2 Axes>"
      ]
     },
     "metadata": {
      "needs_background": "light"
     },
     "output_type": "display_data"
    }
   ],
   "source": [
    "# Assuming t_star is a numpy array with your data\n",
    "# Generate label arrays\n",
    "xs = [f\"x{i}\" for i in range(1, t_star.shape[0] + 1)]\n",
    "ys = [f\"y{i}\" for i in range(1, t_star.shape[1] + 1)]\n",
    "\n",
    "# Create a heatmap\n",
    "plt.figure(figsize=(8, 6))\n",
    "plt.imshow(t_star, aspect='equal', cmap='plasma', clim=(0., 0.25),origin='lower')\n",
    "\n",
    "plt.colorbar()  # Show color scale\n",
    "plt.show()"
   ]
  },
  {
   "cell_type": "code",
   "execution_count": 546,
   "metadata": {},
   "outputs": [
    {
     "data": {
      "image/png": "[encoded data removed]",
      "text/plain": [
       "<Figure size 576x432 with 2 Axes>"
      ]
     },
     "metadata": {
      "needs_background": "light"
     },
     "output_type": "display_data"
    }
   ],
   "source": [
    "# Assuming t_star is a numpy array with your data\n",
    "# Generate label arrays\n",
    "xs = [f\"x{i}\" for i in range(1, t_star.shape[0] + 1)]\n",
    "ys = [f\"y{i}\" for i in range(1, t_star.shape[1] + 1)]\n",
    "\n",
    "# Create a heatmap\n",
    "plt.figure(figsize=(8, 6))\n",
    "plt.imshow(t_star_bis, aspect='equal', cmap='plasma', clim=(0., 0.25),origin='lower')\n",
    "\n",
    "plt.colorbar()  # Show color scale\n",
    "plt.show()"
   ]
  },
  {
   "cell_type": "code",
   "execution_count": 547,
   "metadata": {},
   "outputs": [
    {
     "data": {
      "text/plain": [
       "<matplotlib.legend.Legend at 0x7fc5fad3aac0>"
      ]
     },
     "execution_count": 547,
     "metadata": {},
     "output_type": "execute_result"
    },
    {
     "data": {
      "image/png": "[encoded data removed]",
      "text/plain": [
       "<Figure size 432x288 with 1 Axes>"
      ]
     },
     "metadata": {
      "needs_background": "light"
     },
     "output_type": "display_data"
    }
   ],
   "source": [
    "plt.plot(p.grid_savings, d_star[0:p.grid_size], label=\"low\")\n",
    "plt.plot(p.grid_savings, d_star[p.grid_size:], label=\"high\")\n",
    "\n",
    "plt.plot(p.grid_savings, d_star_bis[:p.grid_size], label=\"low bis\")\n",
    "plt.plot(p.grid_savings, d_star_bis[p.grid_size:], label=\"high bis\")\n",
    "\n",
    "plt.legend()"
   ]
  },
  {
   "cell_type": "code",
   "execution_count": 548,
   "metadata": {},
   "outputs": [
    {
     "data": {
      "text/plain": [
       "<matplotlib.legend.Legend at 0x7fc5fac65820>"
      ]
     },
     "execution_count": 548,
     "metadata": {},
     "output_type": "execute_result"
    },
    {
     "data": {
      "image/png": "[encoded data removed]",
      "text/plain": [
       "<Figure size 432x288 with 1 Axes>"
      ]
     },
     "metadata": {
      "needs_background": "light"
     },
     "output_type": "display_data"
    }
   ],
   "source": [
    "d_star_2, flag = calculate_ss_density_vectorized_2(g_low_star, g_high_star, np.ones(p.nI * p.grid_size)/(p.nI * p.grid_size), p)\n",
    "\n",
    "plt.plot(p.grid_savings, d_star[0:p.grid_size], label=\"low\")\n",
    "plt.plot(p.grid_savings, d_star[p.grid_size:], label=\"high\")\n",
    "\n",
    "plt.plot(p.grid_savings, d_star_2[:p.grid_size], label=\"low bis\")\n",
    "plt.plot(p.grid_savings, d_star_2[p.grid_size:], label=\"high bis\")\n",
    "\n",
    "plt.legend()"
   ]
  },
  {
   "cell_type": "code",
   "execution_count": 549,
   "metadata": {},
   "outputs": [
    {
     "name": "stdout",
     "output_type": "stream",
     "text": [
      "CPU times: user 170 ms, sys: 1.1 ms, total: 171 ms\n",
      "Wall time: 170 ms\n"
     ]
    }
   ],
   "source": [
    "%%time\n",
    "d_star_2, flag = calculate_ss_density_vectorized_2(g_low_star, g_high_star, np.ones(p.nI * p.grid_size)/(p.nI * p.grid_size), p)"
   ]
  },
  {
   "cell_type": "code",
   "execution_count": 550,
   "metadata": {},
   "outputs": [
    {
     "name": "stdout",
     "output_type": "stream",
     "text": [
      "CPU times: user 1.76 s, sys: 1.88 s, total: 3.64 s\n",
      "Wall time: 367 ms\n"
     ]
    }
   ],
   "source": [
    "%%time\n",
    "\n",
    "tt = make_trans_mat_vectorized_with_functions(g_low_star, g_high_star, p)\n",
    "# Stationary distribution\n",
    "dd = get_stationary_dist(tt)"
   ]
  },
  {
   "cell_type": "markdown",
   "metadata": {},
   "source": [
    "#### Visualizing convergence toward the steady-state\n",
    "\n",
    "One may visually check the equilibrium exists and is unique:"
   ]
  },
  {
   "cell_type": "code",
   "execution_count": 551,
   "metadata": {},
   "outputs": [
    {
     "data": {
      "text/plain": [
       "<matplotlib.legend.Legend at 0x7fc5fac0e820>"
      ]
     },
     "execution_count": 551,
     "metadata": {},
     "output_type": "execute_result"
    },
    {
     "data": {
      "image/png": "[encoded data removed]",
      "text/plain": [
       "<Figure size 432x288 with 1 Axes>"
      ]
     },
     "metadata": {
      "needs_background": "light"
     },
     "output_type": "display_data"
    }
   ],
   "source": [
    "# Solve for the demand and supply of capital for different values of the interest rate\n",
    "K_grid = np.linspace(res.x-0.5, res.x+0.5, 20)\n",
    "K_implied_grid = np.zeros_like(K_grid)\n",
    "R_grid = np.zeros_like(K_grid)\n",
    "\n",
    "for (K_index, K_value) in enumerate(K_grid):\n",
    "    R_s, W_s = function_R(K_value, z_ss, p), function_W(K_value, z_ss, p) #calculate interest rate R and wage W\n",
    "\n",
    "    gg, c, g_low, g_high, success_flag = solve_EGM(\n",
    "    lambda x: np.log(x + 1e-10), \n",
    "    lambda x: np.log(x+ 1e-10), R_s, W_s, p)\n",
    "    \n",
    "    tt = make_trans_mat_vectorized_with_functions(g_low, g_high, p)\n",
    "    dd = get_stationary_dist(tt) #stationary distribution\n",
    "    K_implied = aggregate_K(dd, p) #implied level of capital\n",
    "    R_grid[K_index] = R_s #store interest rate\n",
    "    K_implied_grid[K_index] = K_implied #store demand of capital\n",
    "    K_grid[K_index] = K_value #store supply of capital\n",
    "\n",
    "# Plot demand and supply of capital\n",
    "plt.plot(K_grid, R_grid, label = \"Demand\")\n",
    "plt.plot(K_implied_grid, R_grid, label = \"Supply\")\n",
    "plt.ylabel(\"Interest rate\")\n",
    "plt.xlabel(\"Capital\")\n",
    "plt.legend()"
   ]
  },
  {
   "cell_type": "markdown",
   "metadata": {},
   "source": [
    "*Notes: This graph shows the demand and the supply of capital as a function of the interest rate.*"
   ]
  }
 ],
 "metadata": {
  "kernelspec": {
   "display_name": "Python 3 (ipykernel)",
   "language": "python",
   "name": "python3"
  },
  "language_info": {
   "codemirror_mode": {
    "name": "ipython",
    "version": 3
   },
   "file_extension": ".py",
   "mimetype": "text/x-python",
   "name": "python",
   "nbconvert_exporter": "python",
   "pygments_lexer": "ipython3",
   "version": "3.8.10"
  }
 },
 "nbformat": 4,
 "nbformat_minor": 4
}
