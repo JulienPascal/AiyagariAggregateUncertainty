{
 "cells": [
  {
   "cell_type": "markdown",
   "metadata": {},
   "source": [
    "# EGM"
   ]
  },
  {
   "cell_type": "markdown",
   "metadata": {},
   "source": [
    "This notebook contains functions to solve for the non-stochastic steady-state of the model using the endogeneous grid method."
   ]
  },
  {
   "cell_type": "code",
   "execution_count": 1,
   "metadata": {},
   "outputs": [
    {
     "ename": "UndefVarError",
     "evalue": "UndefVarError: Params not defined",
     "output_type": "error",
     "traceback": [
      "UndefVarError: Params not defined",
      "",
      "Stacktrace:",
      " [1] top-level scope at In[1]:1"
     ]
    }
   ],
   "source": [
    "function get_c(G_low::Function, G_high::Function, R::Float64, W::Float64, p::Params)\n",
    "    \"\"\"\n",
    "    Compute next period's consumption, conditional on next period's income\n",
    "    \"\"\"\n",
    "    c_grid = similar(p.grid_savings_reshaped)\n",
    "    c_grid[1, :] = R.*p.grid_savings_reshaped[1,:] .+ W*p.grid_endowment_reshaped[1,:] .- max.(p.grid_savings[1], G_low.(p.grid_savings_reshaped[1,:]))\n",
    "    c_grid[2, :] = R.*p.grid_savings_reshaped[2,:] .+ W*p.grid_endowment_reshaped[2,:] .- max.(p.grid_savings[1], G_high.(p.grid_savings_reshaped[2,:]))\n",
    "\n",
    "    return c_grid\n",
    "\n",
    "end"
   ]
  },
  {
   "cell_type": "code",
   "execution_count": null,
   "metadata": {},
   "outputs": [],
   "source": [
    "function euler_back(G_low::Function, G_high::Function, R::Float64, W::Float64, R_prime::Float64, W_prime::Float64, p::Params)\n",
    "    \"\"\"\n",
    "    Solve the Euler equation backward, using the EGM method\n",
    "    Input:\n",
    "    -----\n",
    "    G_low::Function: savings policy rule in the next period in bad state\n",
    "    G_high::Function: savings policy rule in the next period in good state\n",
    "    R::Float64: interest rate in the present period\n",
    "    W::Float64: wage in the present period\n",
    "    R_prime::Float64: interest rate next period \n",
    "    W_prime::Float64: wage next period\n",
    "    Output:\n",
    "    -------\n",
    "    a: policy function a' = g(a,e) for points on the p.grid_savings_reshaped\n",
    "    c: consumption c'= f(a,e) for points on the p.grid_savings_reshaped\n",
    "    Kg_low_f: policy function a' = g(a,e_low) for any a (interpolated)\n",
    "    Kg_high_f: policy function a' = g(a,e_high) for any a (interpolated)\n",
    "    \"\"\"\n",
    "\n",
    "    # 1. Compute next period's consumption, conditional on next period's income\n",
    "    c_prime = get_c(G_low, G_high, R_prime, W_prime, p)\n",
    "    \n",
    "    # 1.' Compute next period's marginal utility of consumption:\n",
    "    up_cprime = similar(c_prime)\n",
    "    u′!(up_cprime, c_prime, p)\n",
    "\n",
    "    # 2. Expectation with respect to changes in idiosyncratic productivity:\n",
    "    E_up_cp = transpose(p.exog_trans)* up_cprime\n",
    "\n",
    "    # 3. Marginal utility of consumption = R' *  beta*Eupcp\n",
    "    up_c = (R_prime*p.beta).*E_up_cp\n",
    "    \n",
    "    # 4. Invert marginal utility of consumption to get consumption:\n",
    "    c = similar(c_prime)\n",
    "    u′_inv!(c, up_c, p)\n",
    "\n",
    "    # 5. The budget constraint implies the beginning-of-period asset:\n",
    "    # aR = (a' + c - y)\n",
    "    a = (p.grid_savings_reshaped .+ c .- W.*p.grid_endowment_reshaped)./R\n",
    "\n",
    "    #Permutations to sort data in increasing order:\n",
    "    p1 = sortperm(a[1,:])\n",
    "    p2 = sortperm(a[2,:])\n",
    "    \n",
    "    # Interpolation a' to get a function a'=g(a,e)\n",
    "    Kg_low = LinearInterpolation(a[1, p1], p.grid_savings_reshaped[1,p1], extrapolation_bc=Line())\n",
    "    Kg_high = LinearInterpolation(a[2, p2], p.grid_savings_reshaped[2,p2], extrapolation_bc=Line())\n",
    "    \n",
    "    # Define new functions using interpolation objects defined above:\n",
    "    Kg_low_f(x) = Kg_low(x)\n",
    "    Kg_high_f(x) = Kg_high(x)\n",
    "\n",
    "    return a, c, Kg_low_f, Kg_high_f\n",
    "\n",
    "end"
   ]
  },
  {
   "cell_type": "code",
   "execution_count": null,
   "metadata": {},
   "outputs": [],
   "source": [
    "function solve_EGM(g_low0::Function, g_high0::Function, R::Float64, W::Float64, p::Params; max_iter::Int64=10000, tol::Float64 = 1e-10, verbose::Bool=false)\n",
    "    \"\"\"\n",
    "    Solve the model using the endogeneous grid method\n",
    "    \"\"\"\n",
    "    \n",
    "    a_old = similar(p.grid_savings_reshaped)\n",
    "    a_new = similar(p.grid_savings_reshaped)\n",
    "    c_new = similar(p.grid_savings_reshaped)\n",
    "    g_low_old = g_low0\n",
    "    g_high_old = g_high0\n",
    "    g_low_new(x) = log(x) #preallocate two policy functions\n",
    "    g_high_new(x) = log(x)\n",
    "    success_flag = 0 #convergence reached = 1; 0 otherwise\n",
    "    \n",
    "    for it in 1:1:max_iter\n",
    "        \n",
    "        a_new, c_new, g_low_new, g_high_new = euler_back(g_low_old, g_high_old, R, W, R, W, p)\n",
    "    \n",
    "        # Check for convergence of assets grids:\n",
    "        if maximum(abs.(a_new - a_old))  < tol\n",
    "            if verbose==true\n",
    "                println(\"Convergence reached after $(it) iterations\")\n",
    "            end\n",
    "            success_flag = 1\n",
    "            break\n",
    "        # Otherwise, update policy functions a'=g(a,e)\n",
    "        else\n",
    "            a_old = copy(a_new) #Policy function on grid points\n",
    "            g_low_old = g_low_new #Policy function interpolated\n",
    "            g_high_old = g_high_new\n",
    "        end\n",
    "         \n",
    "    end\n",
    "\n",
    "    return a_new, c_new, g_low_new, g_high_new, success_flag\n",
    "                \n",
    "end"
   ]
  },
  {
   "cell_type": "markdown",
   "metadata": {},
   "source": [
    "### References \n",
    "\n",
    "* https://alisdairmckay.com/Notes/HetAgents/index.html\n",
    "* https://julia.quantecon.org/dynamic_programming/egm_policy_iter.html\n",
    "* [Car06] Christopher D Carroll. The method of endogenous gridpoints for solving dynamic stochastic optimization problems. Economics Letters, 91(3):312–320, 2006."
   ]
  }
 ],
 "metadata": {
  "kernelspec": {
   "display_name": "Julia 1.3.0",
   "language": "julia",
   "name": "julia-1.3"
  },
  "language_info": {
   "file_extension": ".jl",
   "mimetype": "application/julia",
   "name": "julia",
   "version": "1.3.0"
  }
 },
 "nbformat": 4,
 "nbformat_minor": 2
}
