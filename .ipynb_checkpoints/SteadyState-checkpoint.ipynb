{
 "cells": [
  {
   "cell_type": "markdown",
   "metadata": {},
   "source": [
    "# Non-Stochastic Steady-State"
   ]
  },
  {
   "cell_type": "markdown",
   "metadata": {},
   "source": [
    "This notebook contains:\n",
    "* a function to calculate the transition matrix over capital and idiosyncratic productivity states\n",
    "* a function to calculate the aggregate savings\n",
    "* a function f(K) that is zero when K is at its steady-state value"
   ]
  },
  {
   "cell_type": "markdown",
   "metadata": {},
   "source": [
    "## Transition matrix"
   ]
  },
  {
   "cell_type": "code",
   "execution_count": 1,
   "metadata": {},
   "outputs": [
    {
     "ename": "UndefVarError",
     "evalue": "UndefVarError: Params not defined",
     "output_type": "error",
     "traceback": [
      "UndefVarError: Params not defined",
      "",
      "Stacktrace:",
      " [1] top-level scope at In[1]:1"
     ]
    }
   ],
   "source": [
    "function make_trans_mat(G::Array{Float64,2}, p::Params)\n",
    "    \"\"\"\n",
    "    Define a transition matrix.\n",
    "    The state for an individual is determined by her current level of asset + current idiosyncratic shock\n",
    "    \"\"\"\n",
    "    T = zeros(p.nI*p.grid_size, p.nI*p.grid_size)#To hold both idiosyncratic state + asset level\n",
    "    # Loop over savings:\n",
    "    for a_i = 1:p.grid_size\n",
    "        # Loop over current idiosyncratic level:\n",
    "        for j = 1:p.nI\n",
    "            #Find the row index such that the policy function generates\n",
    "            #the savings next period:\n",
    "            ind = searchsortedfirst(G[j, :], p.grid_savings_reshaped[j,a_i])\n",
    "            #Control for boundary cases\n",
    "            ind = min(max(ind,2), p.grid_size)\n",
    "            #Project on grid using Young (2010) method. First calculate weigths\n",
    "            pp = (p.grid_savings_reshaped[j, a_i] - G[j, ind-1]) / (G[j, ind] - G[j, ind-1])\n",
    "            pp = min(max(pp, 0.0), 1.0)\n",
    "            sj = (j-1)*p.grid_size\n",
    "            # Loop over next period's idiosyncratic level\n",
    "            for k = 1:p.nI\n",
    "                sk = (k-1)*p.grid_size\n",
    "                # weight on the grid point above \n",
    "                T[sk+ind,sj+a_i] = pp * p.exog_trans[k,j]\n",
    "                # weight on the grid point above \n",
    "                T[sk+ind-1,sj+a_i] = (1.0-pp) * p.exog_trans[k,j] \n",
    "            end\n",
    "        end\n",
    "    end\n",
    "    return T\n",
    "end"
   ]
  },
  {
   "cell_type": "code",
   "execution_count": null,
   "metadata": {},
   "outputs": [],
   "source": [
    "function aggregate_K(D::Array{Float64,1}, p::Params)\n",
    "    \"\"\"\n",
    "    Function to calculate the aggregate savings using the distribution of states\n",
    "    and the policy functions\n",
    "    D::Array{Float64,1}: distribution of agents\n",
    "    p::Params\n",
    "    \"\"\"\n",
    "    return dot(p.grid_savings_long, D)\n",
    "end"
   ]
  },
  {
   "cell_type": "code",
   "execution_count": null,
   "metadata": {},
   "outputs": [],
   "source": [
    "function eq_K(K, p::Params; z_ss=1.0)\n",
    "    \"\"\"\n",
    "    Function that is minimized when capital demand = capital supply\n",
    "    \"\"\"\n",
    "    gg, c_star, g_low, g_high, success_flag= solve_EGM(x->log(x), x->log(x), R(K, z_ss, p), W(K, z_ss, p), p) #solve for policy functions\n",
    "    tt = make_trans_mat(gg, p) #generate transition matrix\n",
    "    dd = get_stationary_dist(tt) #stationary distribution\n",
    "    K_implied = aggregate_K(dd, p) #implied level of capital\n",
    "    return 0.5*(K_implied - K)^2 #is minimized when K_implied = K\n",
    "end"
   ]
  }
 ],
 "metadata": {
  "kernelspec": {
   "display_name": "Julia 1.3.0",
   "language": "julia",
   "name": "julia-1.3"
  },
  "language_info": {
   "file_extension": ".jl",
   "mimetype": "application/julia",
   "name": "julia",
   "version": "1.3.0"
  }
 },
 "nbformat": 4,
 "nbformat_minor": 2
}
