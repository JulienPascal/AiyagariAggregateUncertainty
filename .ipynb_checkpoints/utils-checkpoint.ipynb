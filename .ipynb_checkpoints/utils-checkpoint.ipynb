{
 "cells": [
  {
   "cell_type": "markdown",
   "metadata": {},
   "source": [
    "# Utils"
   ]
  },
  {
   "cell_type": "markdown",
   "metadata": {},
   "source": [
    "This notebook contains an immutable struct to hold parameter values and primitives functions of the model."
   ]
  },
  {
   "cell_type": "markdown",
   "metadata": {},
   "source": [
    "## Define an immutable struct to hold parameters"
   ]
  },
  {
   "cell_type": "code",
   "execution_count": 2,
   "metadata": {},
   "outputs": [
    {
     "data": {
      "text/plain": [
       "Params"
      ]
     },
     "execution_count": 2,
     "metadata": {},
     "output_type": "execute_result"
    }
   ],
   "source": [
    "struct Params\n",
    "    \"\"\"\n",
    "    Immutable struct that contains parameters of the model\n",
    "    \"\"\"\n",
    "    #Economic Parameters\n",
    "    #-------------------\n",
    "    alpha::Float64\n",
    "    beta::Float64\n",
    "    gamma::Float64\n",
    "    delta::Float64\n",
    "    rho::Float64 #persistence of aggregate shock\n",
    "    a_min::Float64 #borrowing constraint\n",
    "    a_max::Float64 #maximum capital\n",
    "    nTrans::Int64 #number of elements in the endoegeneous state transition matrix\n",
    "    jfp::Float64 # job finding probability\n",
    "    jlp::Float64 # job losing probability\n",
    "    exog_trans::Array{Float64,2} #transition matrix\n",
    "    endowment_low::Float64 #labor low state\n",
    "    endowment_high::Float64 #labor high state\n",
    "    Lbar::Float64 #normalization constant\n",
    "    #Other parameters\n",
    "    #----------------\n",
    "    nX::Int64 #number of aggregate variables\n",
    "    nEps::Int64 #dimension of shock\n",
    "    nI::Int64 #numer of idiosyncratic states\n",
    "    iZ::Int64 #index for the value of Z (aggregate productivity)\n",
    "    iR::Int64 #index for the value of R (interest rate)\n",
    "    iK::Int64 #index for the value of K (capital)\n",
    "    iY::Int64 #index for the value of Y (output)\n",
    "    iC::Int64 #index for the value of C (consumption)\n",
    "    grid_size::Int64 #Number of points on the grid for savings\n",
    "    grid_savings::Array{Float64,1} #grid for savings\n",
    "    grid_savings_long::Array{Float64,1} #grid for savings repeated nI times\n",
    "    grid_savings_reshaped::Array{Float64,2} #grid for savings reshaped\n",
    "    grid_endowment::Array{Float64,1} #grid for labor endowments\n",
    "    grid_endowment_reshaped::Array{Float64,2} #grid for labor endowments\n",
    "end\n",
    "\n",
    "# Constructor for type Params\n",
    "function Params( ; alpha::Float64 = 0.4, beta::Float64 = 0.98, gamma::Float64 = 2.0, \n",
    "                    delta::Float64 = 0.02, rho::Float64 = 0.95, a_min::Float64 = 0.0, a_max::Float64 = 200.0,\n",
    "                    nTrans::Int64 = 2, jfp::Float64 = 0.6, jlp::Float64 = 0.2,\n",
    "                    endowment_low::Float64 = 1.0, endowment_high::Float64 = 2.5, Lbar::Float64 = 1.0,\n",
    "                    nX::Int64 = 5, nEps::Int64 = 1, nI::Int64 = 2, grid_size::Int64 = 201,\n",
    "                    )\n",
    "    #Indices\n",
    "    iZ, iR, iK, iY, iC = collect(1:1:nX)\n",
    "    \n",
    "    #Exogenous transition matrix. Convention: rows = future state; columns = current state\n",
    "    exog_trans = [[1.0 - jfp; jfp] [jlp; 1.0 - jlp]]\n",
    "    \n",
    "    #Labor endowments:\n",
    "    grid_endowment = [endowment_low; endowment_high]\n",
    "    Lbar = dot(grid_endowment, get_stationary_dist(exog_trans))\n",
    "    grid_endowment = grid_endowment ./ Lbar\n",
    "    Lbar = 1.0\n",
    "    \n",
    "    #grid for savings\n",
    "    grid_savings = collect(range(a_min^(0.25), stop=a_max^(0.25), length=grid_size)).^4\n",
    "    \n",
    "    #repeat grid savings nI times\n",
    "    grid_savings_long = repeat(grid_savings, nI)\n",
    "    \n",
    "    #reshape grid for savings\n",
    "    grid_savings_reshaped = transpose(repeat(grid_savings, outer=[1, nI]))\n",
    "    \n",
    "    #reshape grid of endowments\n",
    "    grid_endowment_reshaped = repeat(grid_endowment, outer = [1, grid_size])\n",
    "    \n",
    "    Params(alpha,\n",
    "            beta,\n",
    "            gamma,\n",
    "            delta,\n",
    "            rho,\n",
    "            a_min,\n",
    "            a_max,\n",
    "            nTrans,\n",
    "            jfp,\n",
    "            jlp,\n",
    "            exog_trans,\n",
    "            endowment_low,\n",
    "            endowment_high,\n",
    "            Lbar,\n",
    "            nX, \n",
    "            nEps,\n",
    "            nI,\n",
    "            iZ,\n",
    "            iR,\n",
    "            iK,\n",
    "            iY,\n",
    "            iC,\n",
    "            grid_size,\n",
    "            grid_savings,\n",
    "            grid_savings_long,\n",
    "            grid_savings_reshaped,\n",
    "            grid_endowment,\n",
    "            grid_endowment_reshaped)\n",
    "end"
   ]
  },
  {
   "cell_type": "markdown",
   "metadata": {},
   "source": [
    "## Search nearest value on a grid"
   ]
  },
  {
   "cell_type": "code",
   "execution_count": null,
   "metadata": {},
   "outputs": [],
   "source": [
    "# Function to find the index corresponding to the closest value on a grid:\n",
    "# Source: https://discourse.julialang.org/t/findnearest-function/4143/4\n",
    "function searchsortednearest(a::Array{Float64,1},x::Float64)\n",
    "    \"\"\"\n",
    "    Returns the index of the closest value to x on grid a\n",
    "    a::Array{Float64,1}: grid\n",
    "    x::Float64: value to be found\n",
    "    \"\"\"\n",
    "    idx = searchsortedfirst(a,x)\n",
    "    if (idx==1); return idx; end\n",
    "    if (idx>length(a)); return length(a); end\n",
    "    if (a[idx]==x); return idx; end\n",
    "    if (abs(a[idx]-x) < abs(a[idx-1]-x))\n",
    "      return idx\n",
    "    else\n",
    "      return idx-1\n",
    "    end\n",
    "end"
   ]
  },
  {
   "cell_type": "markdown",
   "metadata": {},
   "source": [
    "## Calculate stationary distribution"
   ]
  },
  {
   "cell_type": "code",
   "execution_count": 5,
   "metadata": {},
   "outputs": [
    {
     "data": {
      "text/plain": [
       "get_stationary_dist (generic function with 1 method)"
      ]
     },
     "execution_count": 5,
     "metadata": {},
     "output_type": "execute_result"
    }
   ],
   "source": [
    "function get_stationary_dist(T::Array{Float64,2})\n",
    "    \"\"\"\n",
    "    Returns the stationary distribution\n",
    "    of A'=TA\n",
    "    \"\"\"\n",
    "    F = eigen(T) #F.values and F.vectors\n",
    "    #Find index eigenvalue that is equal to 1\n",
    "    eigenvalue_real = real(F.values)\n",
    "    i = searchsortednearest(eigenvalue_real, 1.0)\n",
    "    #Select the corresponding eigenvector and normalize\n",
    "    eigenvector_real = real(F.vectors[:,i])\n",
    "    return eigenvector_real/sum(eigenvector_real)\n",
    "    \n",
    "end"
   ]
  },
  {
   "cell_type": "markdown",
   "metadata": {},
   "source": [
    "## Utility and marginal utility functions"
   ]
  },
  {
   "cell_type": "code",
   "execution_count": 3,
   "metadata": {},
   "outputs": [
    {
     "data": {
      "text/plain": [
       "u′_inv! (generic function with 1 method)"
      ]
     },
     "execution_count": 3,
     "metadata": {},
     "output_type": "execute_result"
    }
   ],
   "source": [
    "function u(c::Array{Float64,1}, p::Params)\n",
    "    \"\"\"\n",
    "    Utility function when the input is an array\n",
    "    \"\"\"\n",
    "    return (c.^(1.0-p.gamma)-1.0)./(1.0-p.gamma)\n",
    "end\n",
    "\n",
    "\n",
    "#Marginal utility function\n",
    "function u′(c::Array{Float64,1}, p::Params)\n",
    "    \"\"\"\n",
    "    Marginal utility function\n",
    "    \"\"\"\n",
    "    return c.^(-p.gamma)\n",
    "end\n",
    "\n",
    "\n",
    "#Marginal utility function\n",
    "function u′!(up::Array{Float64,2}, c::Array{Float64,2}, p::Params)\n",
    "    \"\"\"\n",
    "    Marginal utility function, mutates the input up\n",
    "    \"\"\"\n",
    "    up[:,:] = c.^(-p.gamma)\n",
    "end\n",
    "\n",
    "\n",
    "function u′_inv(c::Array{Float64,1}, p::Params)\n",
    "    \"\"\"\n",
    "    #Inverse marginal utility function\n",
    "    \"\"\"\n",
    "    return c.^(-1.0/p.gamma)\n",
    "end\n",
    "\n",
    "function u′_inv!(up_inv::Array{Float64,2}, c::Array{Float64,2}, p::Params)\n",
    "    \"\"\"\n",
    "    #Inverse marginal utility function, mutates the input up_inv\n",
    "    \"\"\"\n",
    "    up_inv[:,:] = c.^(-1.0/p.gamma)\n",
    "end"
   ]
  },
  {
   "cell_type": "markdown",
   "metadata": {},
   "source": [
    "## Interest rate and wage"
   ]
  },
  {
   "cell_type": "code",
   "execution_count": 1,
   "metadata": {},
   "outputs": [
    {
     "ename": "UndefVarError",
     "evalue": "UndefVarError: Params not defined",
     "output_type": "error",
     "traceback": [
      "UndefVarError: Params not defined",
      "",
      "Stacktrace:",
      " [1] top-level scope at In[1]:1"
     ]
    }
   ],
   "source": [
    "function R(K::Float64, Z::Float64, p::Params)\n",
    "    \"\"\"\n",
    "    Interest rate\n",
    "    K: level of capital\n",
    "    Z: aggregate state\n",
    "    \"\"\"\n",
    "    return Z * p.alpha*(K/p.Lbar)^(p.alpha - 1.0) + 1.0 - p.delta\n",
    "end\n",
    "\n",
    "function W(K::Float64, Z::Float64, p::Params)\n",
    "    \"\"\"\n",
    "    Wage\n",
    "    K: level of capital\n",
    "    Z: aggregate state\n",
    "    \"\"\"\n",
    "    return Z*(1.0 - p.alpha)*(K/p.Lbar)^(1.0 - p.alpha)\n",
    "end"
   ]
  }
 ],
 "metadata": {
  "kernelspec": {
   "display_name": "Julia 1.3.0",
   "language": "julia",
   "name": "julia-1.3"
  },
  "language_info": {
   "file_extension": ".jl",
   "mimetype": "application/julia",
   "name": "julia",
   "version": "1.3.0"
  }
 },
 "nbformat": 4,
 "nbformat_minor": 2
}
